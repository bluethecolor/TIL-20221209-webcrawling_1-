{
 "cells": [
  {
   "cell_type": "markdown",
   "id": "787434b0-1096-47ce-9c3b-3205c7418108",
   "metadata": {},
   "source": [
    "# BeautifulSoup\n",
    "- HTML 문서에서 원하는 부분출 추출해내는 라이브러리\n",
    "- 'requests'는 HTML을 텍스트 형태로 출력할 뿐이지 실제 HTML 태그를 다루지는 않는다.\n",
    "- BeautifulSoup 라이브러리는 위의 텍스트 결과를 실제 HTML 코드로 변환해준다. "
   ]
  },
  {
   "attachments": {},
   "cell_type": "markdown",
   "id": "140c1e4a-fc34-454b-881b-732f6926acf4",
   "metadata": {},
   "source": [
    "## BeautifulSoup\n",
    "- BeautifulSoup()\n",
    "    - 문자열 HTML 코드를 실제 HTML 코드로 변환해주는 함수\n",
    "\n",
    "    ```python\n",
    "    BeautifulSoup(문자열, 'html.parser')\n",
    "    # 문자열을 HTML 코드로 해석해서 읽어라\n",
    "    ```\n",
    "\n",
    "- find_all()\n",
    "    - HTML 코드에서 우리가 원하는 부분을 모두 가져오는 함수\n",
    "    - 원하는 부분을 지정할 때 사용하는 것은 태그와  Selector\n",
    "    - 해당 태그의 모든 HTML 코드를 리스트 형태로 반환\n",
    "\n",
    "    ```python\n",
    "    # <div id=\"example1\">\n",
    "    실제HTML코드.find_all(\"div\") # 태그 이름\n",
    "    실제HTML코드.find_all(id=\"example1\") # 선택자 정보\n",
    "\n",
    "    # <div id=\"example1\">, <span class=\"example2\">\n",
    "    실제HTML코드.find_all([\"div\", \"span\"]) # 태그 이름\n",
    "    실제HTML코드.find_all(attrs = {\"id\":\"example1\", \"class\":\"example2\"}) # 선택자 정보\n",
    "    ```\n",
    "\n",
    "\n",
    "\n",
    "- find()\n",
    "    - 하나의 부분만 가져오는 함수\n",
    "\n",
    "    ```python\n",
    "    # <div id=\"example1\">\n",
    "    실제HTML코드.find(\"div\") # 태그 이름\n",
    "    실제HTML코드.find(id=\"example1\") # 선택자 정보\n",
    "    실제HTML코드.find(attrs = {\"id\":\"example1\"}) # 선택자 정보\n",
    "    실제HTML코드.find(attrs = {\"class\":\"example1\"})\n",
    "    실제HTML코드.find(\"div\", {\"id\":\"example1\"}) # 태그 이름 + 선택자 정보\n",
    "    실제HTML코드.find('div', {\"class\":\"example1\"})\n",
    "    ```"
   ]
  },
  {
   "cell_type": "markdown",
   "id": "b4fb138f-c40b-4a43-a981-9dbcd5eaadb2",
   "metadata": {},
   "source": [
    "# 함수 find() vs find_all()\n",
    "- 두 함수의 차이점을 이해하면 효율적으로 크롤링을 할수 있다. \n",
    "- 로또 당첨 번호를 조회해 보자\n",
    "- [당첨번호 확인](https://dhlottery.co.kr/gameResult.do?method=byWin)"
   ]
  },
  {
   "cell_type": "code",
   "execution_count": 6,
   "id": "60677372",
   "metadata": {},
   "outputs": [],
   "source": [
    "from urllib.request import urlopen\n",
    "import requests\n",
    "from bs4 import BeautifulSoup as bs"
   ]
  },
  {
   "cell_type": "code",
   "execution_count": 31,
   "id": "a3b0febc",
   "metadata": {},
   "outputs": [],
   "source": [
    "#로또 당첨 번호를 불러와 보세요.\n",
    "# 결과\n",
    "# 12 17 20 ... 36"
   ]
  },
  {
   "cell_type": "code",
   "execution_count": null,
   "id": "d3450253",
   "metadata": {},
   "outputs": [],
   "source": [
    "# find로 찾기"
   ]
  },
  {
   "cell_type": "code",
   "execution_count": 66,
   "id": "4a65a589",
   "metadata": {},
   "outputs": [],
   "source": [
    "\n",
    "lotto_url = requests.get('https://dhlottery.co.kr/gameResult.do?method=byWin')\n",
    "lotto_bs = bs(lotto_url.text, 'html.parser')"
   ]
  },
  {
   "cell_type": "code",
   "execution_count": 52,
   "id": "6d78178f",
   "metadata": {},
   "outputs": [
    {
     "name": "stdout",
     "output_type": "stream",
     "text": [
      "12\n",
      "17\n",
      "20\n",
      "26\n",
      "28\n",
      "36\n",
      "<보너스번호>\n",
      "4\n"
     ]
    }
   ],
   "source": [
    "result = lotto_bs.find('div', {'class':'nums'})\n",
    "# print(result)\n",
    "\n",
    "result_win = result.find('div', {'class':'num win'})\n",
    "# 보너스는 제외시키기\n",
    "\n",
    "for i in result_win.find_all('span'):\n",
    "    print(i.text)\n",
    "\n",
    "# 보너스 번호 추가\n",
    "print(\"<보너스번호>\")\n",
    "result_bonus = result.find('div', {'class':'num bonus'})\n",
    "result_bonus_num = result_bonus.find_all('span')[0].text\n",
    "print(result_bonus_num)\n"
   ]
  },
  {
   "cell_type": "code",
   "execution_count": null,
   "id": "543ac808",
   "metadata": {},
   "outputs": [],
   "source": [
    "# select로 찾기"
   ]
  },
  {
   "cell_type": "code",
   "execution_count": 53,
   "id": "a51071f1",
   "metadata": {},
   "outputs": [],
   "source": [
    "css_soup = lotto_bs.select('div.nums > div.num.win')"
   ]
  },
  {
   "cell_type": "code",
   "execution_count": 55,
   "id": "95a19013",
   "metadata": {},
   "outputs": [
    {
     "name": "stdout",
     "output_type": "stream",
     "text": [
      "\n",
      "12\n",
      "17\n",
      "20\n",
      "26\n",
      "28\n",
      "36\n",
      "\n"
     ]
    }
   ],
   "source": [
    "for item in css_soup[0].find_all('p'):\n",
    "    print(item.text)"
   ]
  },
  {
   "cell_type": "markdown",
   "id": "94285171-ea20-435c-9631-b121a63f86d0",
   "metadata": {},
   "source": [
    "# URL 패턴\n",
    "- https://search.hankyung.com/apps.frm/search.news?query=%EC%BD%94%EB%A1%9C%EB%82%98&page=1\n",
    "- url 패턴 : query=\"검색값\"&page=\"페이지값\""
   ]
  },
  {
   "cell_type": "markdown",
   "id": "ff749162",
   "metadata": {},
   "source": [
    "- [참고: URL 인코딩/디코딩 (URL Encoding/Decoding)](https://it-eldorado.tistory.com/143)  \n",
    "<img src=\"https://blog.kakaocdn.net/dn/caNQvW/btq4JfrNJfP/zdIHGBlZFZr26k2XeHJhbK/img.png\">"
   ]
  },
  {
   "cell_type": "code",
   "execution_count": null,
   "id": "72d0a6db",
   "metadata": {},
   "outputs": [],
   "source": [
    "# 검색어를 입력받고 환경 닷컴에서 검색된 결과 중 첫번째 페이지의 제목만 출력하세요.\n",
    "\n",
    "corona_url = requests.get('https://search.hankyung.com/apps.frm/search.news?query=%EC%BD%94%EB%A1%9C%EB%82%98&page=1', verify = False)\n",
    "corona_bs = bs(corona_url.text , 'html.parser')\n"
   ]
  },
  {
   "cell_type": "code",
   "execution_count": 85,
   "id": "0962168e",
   "metadata": {},
   "outputs": [],
   "source": [
    "worldcup_url = requests.get('https://search.naver.com/search.naver?query=%EC%9B%94%EB%93%9C%EC%BB%B5&nso=&where=blog&sm=tab_opt')\n",
    "worldcup_bs = bs(worldcup_url.text , 'html.parser')"
   ]
  },
  {
   "cell_type": "code",
   "execution_count": 145,
   "id": "949b078d",
   "metadata": {},
   "outputs": [
    {
     "name": "stdout",
     "output_type": "stream",
     "text": [
      " 카타르 월드컵 8강 브라질 크로아티아 중계방송 MBC SBS KBS 해설진 승부예측 분석 다시보기 선발 명단 프리뷰 2022 카타르 월드컵 8강 진출팀이 모두 가려졌고 이제...  \n"
     ]
    }
   ],
   "source": [
    "result = worldcup_bs.find('div', {'class':'total_group'})\n",
    "\n",
    "\n",
    "result_thumnail = result.find_all('a')[0].text\n",
    "\n",
    "print(result_thumnail)\n"
   ]
  },
  {
   "cell_type": "code",
   "execution_count": null,
   "id": "158d539e",
   "metadata": {},
   "outputs": [],
   "source": [
    "#옳바른 방법"
   ]
  },
  {
   "cell_type": "code",
   "execution_count": 144,
   "id": "488fe74e",
   "metadata": {},
   "outputs": [
    {
     "data": {
      "text/plain": [
       "'카타르 월드컵 8강 브라질 크로아티아 중계방송 MBC SBS KBS... '"
      ]
     },
     "execution_count": 144,
     "metadata": {},
     "output_type": "execute_result"
    }
   ],
   "source": [
    "naver_bs.find_all(\"div\", {\"class\":\"total_area\"})[0].find(\"a\", {\"class\":\"api_txt_lines total_tit\"}).text"
   ]
  },
  {
   "cell_type": "code",
   "execution_count": null,
   "id": "cd238420",
   "metadata": {},
   "outputs": [],
   "source": [
    "query = input(\"검색어를 입력하세요 : \")\n",
    "naver_url = f\"https://search.naver.com/search.naver?query={query}&nso=&where=blog&sm=tab_opt\"\n",
    "naver_raw = requests.get(naver_url, verify=False)\n",
    "naver_bs = bs(naver_raw.text, \"html.parser\")\n",
    "for i in naver_bs.find_all(\"div\", {\"class\":\"total_area\"}):\n",
    "    print(i.find(\"a\", {\"class\":\"api_txt_lines total_tit\"}).text)"
   ]
  },
  {
   "cell_type": "markdown",
   "id": "be9a52e2-7514-45b7-b88b-14ea0c0fef8f",
   "metadata": {},
   "source": []
  },
  {
   "cell_type": "code",
   "execution_count": 40,
   "id": "48231f34",
   "metadata": {},
   "outputs": [
    {
     "name": "stdout",
     "output_type": "stream",
     "text": [
      "1.\n",
      "WINTER ISLAND\n",
      "\n",
      "2.\n",
      "OUT NOW\n",
      "\n",
      "3.\n",
      "Christmas Time\n",
      "\n",
      "4.\n",
      "Where R U (Feat. 공시아)\n",
      "\n",
      "5.\n",
      "첫눈\n",
      "\n",
      "6.\n",
      "사랑은 쿵쿵쿵\n",
      "\n",
      "7.\n",
      "Free Run\n",
      "\n",
      "8.\n",
      "나와!\n",
      "\n",
      "9.\n",
      "Amazing\n",
      "\n",
      "10.\n",
      "Airplane\n",
      "\n",
      "11.\n",
      "Two inches (Feat. 자주)\n",
      "\n",
      "12.\n",
      "치즈떡볶이\n",
      "\n",
      "13.\n",
      "Reset\n",
      "\n",
      "14.\n",
      "메리 메리 크리스마스\n",
      "\n",
      "15.\n",
      "오늘도 나는 달린다\n",
      "\n",
      "16.\n",
      "Emerald Green\n",
      "\n",
      "17.\n",
      "소중했던 그해 겨울밤\n",
      "\n",
      "18.\n",
      "Flash\n",
      "\n",
      "19.\n",
      "바빠(Feat.U.J,원업)\n",
      "\n",
      "20.\n",
      "Dear. Winter\n",
      "\n",
      "21.\n",
      "Far Away\n",
      "\n",
      "22.\n",
      "Merry Christmas (Feat. 솔)\n",
      "\n",
      "23.\n",
      "크리스마스 팡파레\n",
      "\n",
      "24.\n",
      "Girl In The Mirror (Feat. Frawley)\n",
      "\n",
      "25.\n",
      "고백\n",
      "\n",
      "26.\n",
      "Shine tiger\n",
      "\n",
      "27.\n",
      "Re CoCoGirl\n",
      "\n",
      "28.\n",
      "무화 (Feat. 천누리)\n",
      "\n",
      "29.\n",
      "Dream land\n",
      "\n",
      "30.\n",
      "Mr. H (Feat. 우주(wouldu))\n",
      "\n",
      "31.\n",
      "중독(Feat. 616 khan a.k.a keezy)(Prod by Encode Mafia)\n",
      "\n",
      "32.\n",
      "하모 Yeah!\n",
      "\n",
      "33.\n",
      "Cheshire\n",
      "\n",
      "34.\n",
      "Back Down\n",
      "\n",
      "35.\n",
      "뭉치는 우리 집으로 데려갈게\n",
      "\n",
      "36.\n",
      "DESSERT\n",
      "\n",
      "37.\n",
      "All or Nothing\n",
      "\n",
      "38.\n",
      "Day by Day\n",
      "\n",
      "39.\n",
      "크리스마스 소원\n",
      "\n",
      "40.\n",
      "WHEN I MOVE\n",
      "\n",
      "41.\n",
      "사랑을 위한 챌린지 노래 (feat. 주디)\n",
      "\n",
      "42.\n",
      "빙글빙글 (Vocal by 성민) (Rap by LEF-T)\n",
      "\n",
      "43.\n",
      "Handle\n",
      "\n",
      "44.\n",
      "지구를 위하여\n",
      "\n",
      "45.\n",
      "Birthday\n",
      "\n",
      "46.\n",
      "A to Z\n",
      "\n",
      "47.\n",
      "Higher Up\n",
      "\n",
      "48.\n",
      "Christmas party\n",
      "\n",
      "49.\n",
      "Trust Yourself (Inst.)\n",
      "\n",
      "50.\n",
      "약속해\n",
      "\n"
     ]
    }
   ],
   "source": [
    "query = input(\"장르를 입력하세요.: \")\n",
    "\n",
    "list_gnr = ['발라드','댄스','랩/힙합','R&B/Soul','인디음악','록/메탈','트로트','포크/블루스']\n",
    "\n",
    "if query not in list_gnr:\n",
    "    print('다시 입력하세요.')\n",
    "\n",
    "gnr = 100 * (list_gnr.index(query) + 1)\n",
    "\n",
    "    \n",
    "header = {'User-Agent': 'Mozilla/5.0 (Windows NT 6.3; Trident/7.0; rv:11.0) like Gecko'}\n",
    "\n",
    "url = f'https://www.melon.com/genre/song_list.htm?gnrCode=GN0{gnr}'\n",
    "melon_url = requests.get(url, headers= header)\n",
    "melon_bs = bs(melon_url.text, 'html.parser')\n",
    "\n",
    "i = 0\n",
    "for item in melon_bs.find_all('div', {'ellipsis rank01'}):\n",
    "    i += 1\n",
    "    print(f\"{i}.{item.text}\")\n",
    "\n",
    "\n",
    "# for item in melon_bs.find_all('div', {'wrap_song_info'}):\n",
    "#     print(item.text)\n",
    "\n"
   ]
  },
  {
   "cell_type": "code",
   "execution_count": 231,
   "id": "151e1296",
   "metadata": {},
   "outputs": [
    {
     "name": "stdout",
     "output_type": "stream",
     "text": [
      "삼성전자\n",
      "새빗켐\n",
      "카카오\n",
      "포바이포\n",
      "위메이드\n",
      "LG전자\n",
      "한국조선해양\n",
      "LG에너지솔루션\n",
      "TIGER 200 IT\n",
      "SK이노베이션\n"
     ]
    }
   ],
   "source": [
    "url = 'https://finance.naver.com/sise/'\n",
    "finace_url = requests.get(url)\n",
    "finace_bs = bs(finace_url.text, 'html.parser')\n",
    "\n",
    "\n",
    "for item in finace_bs.find('ul', {'class':'lst_pop'}).find_all('a'):\n",
    "    print(item.text)\n",
    "\n",
    "# for item in finace_bs.find_all('ul', {'class':'lst_pop'}):\n",
    "#     print(item.text)\n"
   ]
  },
  {
   "cell_type": "markdown",
   "id": "ece9a7e9",
   "metadata": {},
   "source": []
  }
 ],
 "metadata": {
  "kernelspec": {
   "display_name": "webcrawling",
   "language": "python",
   "name": "python3"
  },
  "language_info": {
   "codemirror_mode": {
    "name": "ipython",
    "version": 3
   },
   "file_extension": ".py",
   "mimetype": "text/x-python",
   "name": "python",
   "nbconvert_exporter": "python",
   "pygments_lexer": "ipython3",
   "version": "3.10.8"
  },
  "vscode": {
   "interpreter": {
    "hash": "12b939deff3b02a6b70c1d23566a711eb25efc499a8abdda46e771a39b871736"
   }
  }
 },
 "nbformat": 4,
 "nbformat_minor": 5
}
