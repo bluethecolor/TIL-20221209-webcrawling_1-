{
 "cells": [
  {
   "cell_type": "markdown",
   "id": "42f64fda-50fd-4fa7-a5f0-261ced960a52",
   "metadata": {
    "tags": []
   },
   "source": [
    "# 크롤링의 종류\n",
    "\n",
    "\n",
    "\n",
    "## 1. 정적 크롤링\n",
    "- 웹에 있는 정적인 데이터를 수집할 때 사용\n",
    "    - 정적인 데이터란 로그인과 같은 사전 작업 없이 바로 볼 수 있는 데이터\n",
    "    - 새로고침을 하지 않는 이상 변하지 않는 데이터\n",
    "    - 주소를 통해 요청받고 결과를 전달해 주고 종료\n",
    "\n",
    "\n",
    "\n",
    "## 2. 동적 크롤링\n",
    "- 웹에 있는 동적인 데이터를 수집할 때 사용\n",
    "    - 동적인 데이터는 입력, 클릭, 로그인과 같이 페이지 이동시 얻을 수 있는 데이터\n",
    "    - 단계적 접근이 필요하기 때문에 수집 속도가 느리지만 수집 대상에 한계가 거의 없다는 큰 장점\n",
    "    - 연속적인 접근이 가능, 페이지 이동이 필수적이거나 페이지 안에 정보가 은닉되어 있을 경우 사용\n",
    "\n",
    "\n",
    "|           | 정적 크롤링            | 동적 크롤링                     |\n",
    "|-----------|------------------------|---------------------------------|\n",
    "| 연속성    | 주소를 통한 단발적 접근 || 브라우저를 사용한 연속적 접근 |\n",
    "| 속도      | 빠름                    | 느림                          |\n",
    "| 수집 성능 | 수집 대상에 한계가 있음 | 수집 대상에 한계가 거의 없음  |"
   ]
  },
  {
   "attachments": {},
   "cell_type": "markdown",
   "id": "4556bc6e-73bf-496d-acf5-ceb182b2dbb4",
   "metadata": {},
   "source": [
    "# 라이브러리\n",
    "\n",
    "## 1. time 라이브러리\n",
    "\n",
    "- time.time() : time.time()은 UTC를 사용해 현재 시간을 실수 형태로 돌려주는 함수이다.\n",
    "    - 1970년 1월 1일 0시 0분 0초 기준으로 지난 시간을 초 단위로 return \n",
    "    \n",
    "    ```python\n",
    "    import time\n",
    "    print(time.time())\n",
    "    ```\n",
    " \n",
    "- time.localtime() : 현재 시간을 년, 월, 일, 시, 분, 초..의 형태로 출력\n",
    "\n",
    "    ```python\n",
    "    import time\n",
    "    print(time.localtime())\n",
    "    ```\n",
    "\n",
    "\n",
    "\n",
    "## 2.정적 클로링 도구\n",
    "- requests : 간편한 HTTP 요청 처리를 하는 라이브러리, 웹서비스와 연결하기 위해 사용 \n",
    "- beautifulsoup : html 태그를 처리하는 라이브러리, 웹에 있는 데이터 중 필요한 데이터만 추출하기 위해 사용 \n",
    "- pd.read_html : html 내의 table만 추출할수 있는 도구\n",
    "\n",
    "\n",
    "## 3. 동적 크롤링 도구\n",
    "- selenium : 웹 드라이버를 사용해 자동화 기능을 실현하는 라이브러리\n",
    "    - 웹에 접속해 클릭, 이동과 같은 action을 제어\n",
    "    - driver 를 설치하고 이를통해 제어 가능"
   ]
  },
  {
   "cell_type": "code",
   "execution_count": null,
   "id": "ae4c271b",
   "metadata": {},
   "outputs": [],
   "source": []
  },
  {
   "cell_type": "markdown",
   "id": "b91efe78-1e93-4125-8add-d7edead7e692",
   "metadata": {},
   "source": [
    "# Web Page가져오기\n",
    "- urllib.request 패키지"
   ]
  },
  {
   "cell_type": "code",
   "execution_count": null,
   "id": "6ca6b914",
   "metadata": {},
   "outputs": [],
   "source": [
    "#!conda intall ~~ 로 설치"
   ]
  },
  {
   "cell_type": "code",
   "execution_count": 36,
   "id": "993c704a-f515-47ad-a476-904af43545ce",
   "metadata": {},
   "outputs": [],
   "source": [
    "from urllib.request import urlopen\n",
    "import requests\n",
    "from bs4 import BeautifulSoup as bs"
   ]
  },
  {
   "cell_type": "code",
   "execution_count": 37,
   "id": "12d0a4d8",
   "metadata": {},
   "outputs": [],
   "source": [
    "html = urlopen('https://www.naver.com/')"
   ]
  },
  {
   "cell_type": "code",
   "execution_count": 38,
   "id": "bc40a014",
   "metadata": {},
   "outputs": [
    {
     "data": {
      "text/plain": [
       "<http.client.HTTPResponse at 0x7f9989e6bdf0>"
      ]
     },
     "execution_count": 38,
     "metadata": {},
     "output_type": "execute_result"
    }
   ],
   "source": [
    "html"
   ]
  },
  {
   "cell_type": "code",
   "execution_count": 39,
   "id": "87774c88",
   "metadata": {},
   "outputs": [],
   "source": [
    "soup = bs(html, 'html.parser')"
   ]
  },
  {
   "cell_type": "code",
   "execution_count": null,
   "id": "0c50fab1",
   "metadata": {},
   "outputs": [],
   "source": [
    "print(soup)"
   ]
  },
  {
   "cell_type": "markdown",
   "id": "0b8c7724-4fdb-47cb-a06b-8c5684c24e11",
   "metadata": {},
   "source": [
    "- requests 패키지 사용의 결과"
   ]
  },
  {
   "cell_type": "code",
   "execution_count": null,
   "id": "7753b631",
   "metadata": {},
   "outputs": [],
   "source": [
    "html = requests.get(\"https://www.naver.com\")  # requests는 요청해서 메모리에만 둠\n",
    "# soup = bs(html, \"html.parser\")\n",
    "# print(soup)\n",
    "soup = bs(html.text, \"html.parser\") # bs는 웹페이지에 접속해서 컨트롤하기 위해 씀\n",
    "print(soup)\n",
    "\n",
    "# text로 변환하고 parser해줘야 원하는 필요한 형태로 가져올 수 있다."
   ]
  },
  {
   "attachments": {},
   "cell_type": "markdown",
   "id": "7b7718ad-b99b-4560-86fd-6392db182c11",
   "metadata": {},
   "source": [
    "# 웹페이지와 HTML\n",
    "- 웹페이지는 HTML(HyperText Markup Language)을 기반으로 생성\n",
    "- F12, Ctrl + shift + c 를통해 확인 가능 \n",
    "\n",
    "## 1. HTML 태그\n",
    "- 기본형\n",
    "```html\n",
    "<태그>내용</태그>\n",
    "```\n",
    "\n",
    "- HTML은 마크로 둘러싸인 언어라는 뜻으로 구조에 대한 정보를 기반으로 작성된 언어\n",
    "- 각각의 구성 요소는 마크 역할을 하는 태그로 감싸져 있다.\n",
    "    - 웹페이지의 시작과 끝을 의미하는 \n",
    "    ```html\n",
    "    <html></html>\n",
    "    ```\n",
    "    - 문서의 제목을 의미하는 \n",
    "    ```html\n",
    "    <title></title>\n",
    "    ```\n",
    "    - 웹에 실제로 표시되는 내용을 의미하는 \n",
    "    ```html\n",
    "    <body></body>\n",
    "    ```\n",
    "\n",
    "## 2. HTML 태그의 종류\n",
    "- ul : unordered list. \n",
    "- li : list item. \n",
    "    - 목록의 내용이 되는 실질적 태그\n",
    "    - [참고](https://www.w3schools.com/html/html_lists.asp)\n",
    "- a\n",
    "    - 하이퍼링크를 나타내는 태그\n",
    "    - <a href=\"https://www.google.com\">google</a>\n",
    "- p\n",
    "    - paragraph(단락)의 약자, 긴 글 뭉텅이.\n",
    "- table : 표를 나타내는 태그\n",
    "    - [참고](https://www.w3schools.com/html/tryit.asp?filename=tryhtml_table3)\n",
    "- soup를 이용한 html 태그 검색\n",
    "    - find(\"태그\") - 첫번째 태그만 검색\n",
    "    - find_all(\"태그\") - 전체 태그 검색후 list로 반환"
   ]
  },
  {
   "cell_type": "code",
   "execution_count": null,
   "id": "1e30682f",
   "metadata": {},
   "outputs": [],
   "source": [
    "# 실습 : 자주 들어가는 사이트에서 위에 나열한 태그들을 찾아보세요."
   ]
  },
  {
   "cell_type": "code",
   "execution_count": 42,
   "id": "752840b9",
   "metadata": {},
   "outputs": [],
   "source": [
    "find_div = soup.find('div')"
   ]
  },
  {
   "cell_type": "code",
   "execution_count": 44,
   "id": "31d938fc",
   "metadata": {},
   "outputs": [
    {
     "data": {
      "text/plain": [
       "' 뉴스스탠드 바로가기 주제별캐스트 바로가기 타임스퀘어 바로가기 쇼핑캐스트 바로가기 로그인 바로가기 '"
      ]
     },
     "execution_count": 44,
     "metadata": {},
     "output_type": "execute_result"
    }
   ],
   "source": [
    "find_div.text"
   ]
  },
  {
   "cell_type": "code",
   "execution_count": 46,
   "id": "e32f24f0",
   "metadata": {},
   "outputs": [
    {
     "data": {
      "text/plain": [
       "'\\n\\n\\n메일\\n\\n카페\\n블로그\\n지식iN\\n쇼핑\\n쇼핑LIVE\\nPay\\n\\nTV\\n\\n\\n\\n사전\\n뉴스\\n증권\\n부동산\\n지도\\nVIBE\\n도서\\n웹툰\\n\\n\\n더보기\\n\\n서비스 전체보기\\n메뉴설정\\n초기화\\n저장\\n\\n'"
      ]
     },
     "execution_count": 46,
     "metadata": {},
     "output_type": "execute_result"
    }
   ],
   "source": [
    "# 위에서 원하는 값이 안나와서 더 정확하게 검색\n",
    "find_div_group_nav = soup.find('div', class_ = 'group_nav')\n",
    "find_div_group_nav.text"
   ]
  },
  {
   "cell_type": "markdown",
   "id": "46e11cec-32c0-4bc4-bf17-c9946fef326c",
   "metadata": {},
   "source": [
    "\n",
    "## 3. Selector\n",
    "### Selector\n",
    "- 태그 중에는 동일한 태그가 존재할 수있다. \n",
    "- 선택자(Selector)는 동일한 태그 여러 개 중에서도 각 태그를 구별할 수 있는 일종의 주소이다.\n",
    "\n",
    "### Selector의 필요성\n",
    "\n",
    "```html\n",
    "<div>\t\n",
    "\t<div>\n",
    "\t\t<span> Python </span>\n",
    "\t\t<span> Hello world </span>\n",
    "\t</div>\n",
    "\t\n",
    "\t<div>\n",
    "\t\t<span> Java </span>\n",
    "\t\t<span> Coffee </span>\n",
    "\t</div>\n",
    "<div>\n",
    "```\n",
    "\n",
    "- <span> 태그는 다양한 내용을 담을 수 있다.\n",
    "- <span> 태그가 4개나 있어서 컴퓨터가 구분하기 어렵다. 이러한 문제를 해결하기 위해 선택자를 사용함.\n",
    "\n",
    "```html\n",
    "<div id = \"contents\">\t\n",
    "\t<div class = \"metadata1\">\n",
    "\t\t<span class = \"language\"> Python </span>\n",
    "\t\t<span class = \"project\" > Hello world </span>\n",
    "\t</div>\n",
    "\t\n",
    "\t<div class = \"metadata2\">\n",
    "\t\t<span class = \"language\"> Java </span>\n",
    "\t\t<span class = \"project\"> Coffee </span>\n",
    "\t</div>\n",
    "<div>\n",
    "```"
   ]
  },
  {
   "cell_type": "markdown",
   "id": "aaacebd6-e8e4-4658-93b9-a744a63f2e58",
   "metadata": {},
   "source": [
    "### id와 class\n",
    "- 태그의 선택자는 주로 id와 class를 사용\n",
    "- id는 어떤 요소의 고유한 값\n",
    "    - html에서도 id는 하나의 고유한 선택자로, __중복__ 되지 않고 하나만 존재한다.\n",
    "    - [참고](https://www.w3schools.com/html/html_id.asp)\n",
    "- class 태그는 같은 속성을 지닌 데이터를 묶어주는 값\n",
    "    - 한 태그가 __여러 개__ 의 class를 가질 수 있다.\n",
    "    - [참고](https://www.w3schools.com/html/html_classes.asp)\n",
    "\n",
    "비슷한 속성끼리 묶어줄 때 class 태그를 사용한다."
   ]
  },
  {
   "cell_type": "markdown",
   "id": "0ff2e939",
   "metadata": {},
   "source": [
    "### Selector 사용법\n",
    "```html\n",
    "<div id='123' class='456'>\n",
    "```\n",
    "- 선택자에 따라 데이터를 찾는 코드에 차이가 있다.\n",
    "- id는 '#'를 붙이고, class는 '.'을 붙여준다.\n",
    "\n",
    "- 태그만 사용해 데이터를 찾을 경우 -> 태그\n",
    "  - div\n",
    "- 태그와 id를 사용해 데이터를 찾을 경우 -> 태그#id\n",
    "  - div#123\n",
    "- 태그와 class를 사용해 데이터를 찾을 경우 -> 태그.class\n",
    "  - div.456\n",
    "- 태그, id, class 모두 사용해 데이터를 찾을 경우 -> 태그#id.class\n",
    "  - div#123.456\n",
    "\n",
    "- 참고 : class 이름에 공백이 포함될 경우가 종종 있는데, 이럴 경우 공백을 .으로 대체해서 작성하면 된다.\n",
    "    - ex)\n",
    "\n",
    "    ```html\n",
    "    <div class='hello python'>\n",
    "    ```\n",
    "\n",
    "    -> div.hello.python"
   ]
  },
  {
   "cell_type": "code",
   "execution_count": null,
   "id": "31e01902",
   "metadata": {},
   "outputs": [],
   "source": []
  }
 ],
 "metadata": {
  "kernelspec": {
   "display_name": "webcrawling",
   "language": "python",
   "name": "python3"
  },
  "language_info": {
   "codemirror_mode": {
    "name": "ipython",
    "version": 3
   },
   "file_extension": ".py",
   "mimetype": "text/x-python",
   "name": "python",
   "nbconvert_exporter": "python",
   "pygments_lexer": "ipython3",
   "version": "3.10.8"
  },
  "vscode": {
   "interpreter": {
    "hash": "12b939deff3b02a6b70c1d23566a711eb25efc499a8abdda46e771a39b871736"
   }
  }
 },
 "nbformat": 4,
 "nbformat_minor": 5
}
